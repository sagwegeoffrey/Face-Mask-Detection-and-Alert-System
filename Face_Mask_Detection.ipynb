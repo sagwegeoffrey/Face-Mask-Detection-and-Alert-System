{
 "cells": [
  {
   "cell_type": "code",
   "execution_count": 1,
   "metadata": {
    "colab": {
     "base_uri": "https://localhost:8080/"
    },
    "executionInfo": {
     "elapsed": 271222,
     "status": "ok",
     "timestamp": 1617478122567,
     "user": {
      "displayName": "SAGWE GEOFFREY OMBUI",
      "photoUrl": "https://lh3.googleusercontent.com/a-/AOh14GhWmjsv_u4WFEY1xvqeBNfc0A3tMSzJcXJelHu_=s64",
      "userId": "02529428613547889998"
     },
     "user_tz": -180
    },
    "id": "rZZZby7PA_V7",
    "outputId": "5c183d8d-2348-4b2a-b5fb-add656d6b4a8"
   },
   "outputs": [
    {
     "name": "stderr",
     "output_type": "stream",
     "text": [
      "'apt-get' is not recognized as an internal or external command,\n",
      "operable program or batch file.\n",
      "The system cannot find the path specified.\n",
      "The system cannot find the path specified.\n",
      "'apt-get' is not recognized as an internal or external command,\n",
      "operable program or batch file.\n"
     ]
    },
    {
     "ename": "ModuleNotFoundError",
     "evalue": "No module named 'google.colab'",
     "output_type": "error",
     "traceback": [
      "\u001b[1;31m---------------------------------------------------------------------------\u001b[0m",
      "\u001b[1;31mModuleNotFoundError\u001b[0m                       Traceback (most recent call last)",
      "\u001b[1;32m<ipython-input-1-fb3623060814>\u001b[0m in \u001b[0;36m<module>\u001b[1;34m\u001b[0m\n\u001b[0;32m      4\u001b[0m \u001b[0mget_ipython\u001b[0m\u001b[1;33m(\u001b[0m\u001b[1;33m)\u001b[0m\u001b[1;33m.\u001b[0m\u001b[0msystem\u001b[0m\u001b[1;33m(\u001b[0m\u001b[1;34m'apt-get update -qq 2>&1 > /dev/null'\u001b[0m\u001b[1;33m)\u001b[0m\u001b[1;33m\u001b[0m\u001b[1;33m\u001b[0m\u001b[0m\n\u001b[0;32m      5\u001b[0m \u001b[0mget_ipython\u001b[0m\u001b[1;33m(\u001b[0m\u001b[1;33m)\u001b[0m\u001b[1;33m.\u001b[0m\u001b[0msystem\u001b[0m\u001b[1;33m(\u001b[0m\u001b[1;34m'apt-get -y install -qq google-drive-ocamlfuse fuse'\u001b[0m\u001b[1;33m)\u001b[0m\u001b[1;33m\u001b[0m\u001b[1;33m\u001b[0m\u001b[0m\n\u001b[1;32m----> 6\u001b[1;33m \u001b[1;32mfrom\u001b[0m \u001b[0mgoogle\u001b[0m\u001b[1;33m.\u001b[0m\u001b[0mcolab\u001b[0m \u001b[1;32mimport\u001b[0m \u001b[0mauth\u001b[0m\u001b[1;33m\u001b[0m\u001b[1;33m\u001b[0m\u001b[0m\n\u001b[0m\u001b[0;32m      7\u001b[0m \u001b[0mauth\u001b[0m\u001b[1;33m.\u001b[0m\u001b[0mauthenticate_user\u001b[0m\u001b[1;33m(\u001b[0m\u001b[1;33m)\u001b[0m\u001b[1;33m\u001b[0m\u001b[1;33m\u001b[0m\u001b[0m\n\u001b[0;32m      8\u001b[0m \u001b[1;32mfrom\u001b[0m \u001b[0moauth2client\u001b[0m\u001b[1;33m.\u001b[0m\u001b[0mclient\u001b[0m \u001b[1;32mimport\u001b[0m \u001b[0mGoogleCredentials\u001b[0m\u001b[1;33m\u001b[0m\u001b[1;33m\u001b[0m\u001b[0m\n",
      "\u001b[1;31mModuleNotFoundError\u001b[0m: No module named 'google.colab'"
     ]
    }
   ],
   "source": [
    "# Configuration related preprocessing step before mounting the drive\n",
    "!apt-get install -y -qq software-properties-common python-software-properties module-init-tools\n",
    "!add-apt-repository -y ppa:alessandro-strada/ppa 2>&1 > /dev/null\n",
    "!apt-get update -qq 2>&1 > /dev/null\n",
    "!apt-get -y install -qq google-drive-ocamlfuse fuse\n",
    "from google.colab import auth\n",
    "auth.authenticate_user()\n",
    "from oauth2client.client import GoogleCredentials\n",
    "creds = GoogleCredentials.get_application_default()\n",
    "import getpass\n",
    "\n",
    "!google-drive-ocamlfuse -headless -id={creds.client_id} -secret={creds.client_secret} </dev/null 2>&1 | grep URL\n",
    "vcode=getpass.getpass()\n",
    "!echo {vcode} | google-drive-ocamlfuse -headless -id={creds.client_id} -secret={creds.client_secret}"
   ]
  },
  {
   "cell_type": "code",
   "execution_count": 1,
   "metadata": {
    "colab": {
     "base_uri": "https://localhost:8080/"
    },
    "executionInfo": {
     "elapsed": 107739,
     "status": "ok",
     "timestamp": 1617717972916,
     "user": {
      "displayName": "SAGWE GEOFFREY OMBUI",
      "photoUrl": "https://lh3.googleusercontent.com/a-/AOh14GhWmjsv_u4WFEY1xvqeBNfc0A3tMSzJcXJelHu_=s64",
      "userId": "02529428613547889998"
     },
     "user_tz": -180
    },
    "id": "c-vX9tIq6jOC",
    "outputId": "68ff47bb-1866-47ca-8edc-89cdbf6dbf89"
   },
   "outputs": [
    {
     "ename": "ModuleNotFoundError",
     "evalue": "No module named 'google.colab'",
     "output_type": "error",
     "traceback": [
      "\u001b[1;31m---------------------------------------------------------------------------\u001b[0m",
      "\u001b[1;31mModuleNotFoundError\u001b[0m                       Traceback (most recent call last)",
      "\u001b[1;32m<ipython-input-1-d5df0069828e>\u001b[0m in \u001b[0;36m<module>\u001b[1;34m\u001b[0m\n\u001b[1;32m----> 1\u001b[1;33m \u001b[1;32mfrom\u001b[0m \u001b[0mgoogle\u001b[0m\u001b[1;33m.\u001b[0m\u001b[0mcolab\u001b[0m \u001b[1;32mimport\u001b[0m \u001b[0mdrive\u001b[0m\u001b[1;33m\u001b[0m\u001b[1;33m\u001b[0m\u001b[0m\n\u001b[0m\u001b[0;32m      2\u001b[0m \u001b[0mdrive\u001b[0m\u001b[1;33m.\u001b[0m\u001b[0mmount\u001b[0m\u001b[1;33m(\u001b[0m\u001b[1;34m'/content/drive'\u001b[0m\u001b[1;33m)\u001b[0m\u001b[1;33m\u001b[0m\u001b[1;33m\u001b[0m\u001b[0m\n",
      "\u001b[1;31mModuleNotFoundError\u001b[0m: No module named 'google.colab'"
     ]
    }
   ],
   "source": [
    "from google.colab import drive\n",
    "drive.mount('/content/drive')"
   ]
  },
  {
   "cell_type": "code",
   "execution_count": 2,
   "metadata": {
    "colab": {
     "base_uri": "https://localhost:8080/"
    },
    "executionInfo": {
     "elapsed": 1646,
     "status": "ok",
     "timestamp": 1617717992499,
     "user": {
      "displayName": "SAGWE GEOFFREY OMBUI",
      "photoUrl": "https://lh3.googleusercontent.com/a-/AOh14GhWmjsv_u4WFEY1xvqeBNfc0A3tMSzJcXJelHu_=s64",
      "userId": "02529428613547889998"
     },
     "user_tz": -180
    },
    "id": "bAdye1Du64Zo",
    "outputId": "efd73ba6-63bf-4fb8-b608-db5b5c21ee36"
   },
   "outputs": [
    {
     "name": "stdout",
     "output_type": "stream",
     "text": [
      "'Bayesian Classification_reference_slides.gdoc'\n",
      "'CC1 501 - Group 7 (Univariate Linear Regression) GEOFFREY SAGWE OMBUI.docx'\n",
      "'CC1 501 - Group 7 (Univariate Linear Regression).pdf'\n",
      "'CCI 501 - Group Assigment.docx'\n",
      "'CCI 501 Lecture (2020-12-03 at 06:37 GMT-8)'\n",
      " Classroom\n",
      "'Colab Notebooks'\n",
      " Decision_tree_reference_slides.gdoc\n",
      " decision_trees_formalities.gdoc\n",
      " Decision_Trees.gdoc\n",
      " face_mask\n",
      "'Face mask'\n",
      " Face_Mask_Detection.ipynb\n",
      " Generating_Parse_Trees.ipynb\n",
      " haarcascade_frontalface_default.xml\n",
      " IMG_20210123_154803_573.jpg\n",
      "'Lecture 10 - NeuralNetworks.handouts.gdoc'\n",
      "'Lecture 1B.gdoc'\n",
      "'Lecture 2A Main Hypothesis Testing Lecture.gslides'\n",
      "'Lecture 2B Support.gdoc'\n",
      "'lecture 3A Regression Analysis.gslides'\n",
      "'Lecture 3B FORECASTING.gslides'\n",
      "'Lecture 3B Regression analysis.gdoc'\n",
      "'Lecture 3 - Introduction to Unsupervised Learning (1).gdoc'\n",
      "'Lecture 3 - Introduction to Unsupervised Learning.gdoc'\n",
      "'Lecture 4A LINEAR PROGRAMMING.gslides'\n",
      "'Lecture 4B Business Optimisation.gslides'\n",
      "'Lecture 5A  Decision Trees.gslides'\n",
      "'Lecture 5B  Criteria optimization.gslides'\n",
      "'Lecture 6 Architectures for BI.gslides'\n",
      "'Lecture 6 Support A_Five-Layered_Business_Intelligence_Architecture.gdoc'\n",
      "'Lecture 8 - KNN.gdoc'\n",
      "'Lecture 9 - K-means Clustering.handouts.gdoc'\n",
      "'Lesson 1 - Introduction to Machine Learning.gdoc'\n",
      "'Lesson1 - Introduction to ML Course.gdoc'\n",
      "'LifeExpectancy (1).csv'\n",
      " LifeExpectancy.csv\n",
      " LifeExpectancy.csv.gsheet\n",
      "'Life Expectancy in Univariate LR.ipynb'\n",
      "'Life Expectancy in Univariate LR.pdf'\n",
      " LoanAgeDefault_data.gsheet\n",
      "'ML QUESTION 4 GEOFFREY.gdoc'\n",
      "'ML REPORT DOCUMENT (1).docx'\n",
      "'Multi-variate Linear Regression Group 7 Assignment.ipynb'\n",
      "'Multi-variate Linear Regression Group Assignment  .ipynb'\n",
      " Naive_Bayes.gdoc\n",
      "'NN by deveaux.gdoc'\n",
      "'NN by dkrieselcom.gdoc'\n",
      " Projects\n",
      "'Proposed Guidelines and Framework for Pardon Advisory Committee - September 2020.pdf'\n",
      "'TERM PAPER FORMAT.doc'\n",
      "'Untitled document (1).gdoc'\n",
      "'Untitled document.gdoc'\n",
      "\"VICE CHANCELLOR'S  CIRCULAR- VIRTUAL 63RD GRADUATION CEREMONY.pdf\"\n"
     ]
    }
   ],
   "source": [
    "!ls \"/content/drive/My Drive\""
   ]
  },
  {
   "cell_type": "code",
   "execution_count": 3,
   "metadata": {
    "colab": {
     "base_uri": "https://localhost:8080/"
    },
    "executionInfo": {
     "elapsed": 1570,
     "status": "ok",
     "timestamp": 1617718053106,
     "user": {
      "displayName": "SAGWE GEOFFREY OMBUI",
      "photoUrl": "https://lh3.googleusercontent.com/a-/AOh14GhWmjsv_u4WFEY1xvqeBNfc0A3tMSzJcXJelHu_=s64",
      "userId": "02529428613547889998"
     },
     "user_tz": -180
    },
    "id": "PX579bAJ_b4q",
    "outputId": "b05fc5fd-6d40-40df-8197-817caafc3aa7"
   },
   "outputs": [
    {
     "name": "stdout",
     "output_type": "stream",
     "text": [
      "['without_mask', 'with_mask']\n"
     ]
    }
   ],
   "source": [
    "# Data Pre-processing\n",
    "import os\n",
    "\n",
    "# Set Directory path for Dataset\n",
    "os.chdir(\"/content/drive/My Drive/Projects/\")\n",
    "face_mask = 'face_mask'\n",
    "Data_Dir = os.listdir(face_mask)\n",
    "print(Data_Dir)"
   ]
  },
  {
   "cell_type": "code",
   "execution_count": 4,
   "metadata": {
    "executionInfo": {
     "elapsed": 59020,
     "status": "ok",
     "timestamp": 1617718116816,
     "user": {
      "displayName": "SAGWE GEOFFREY OMBUI",
      "photoUrl": "https://lh3.googleusercontent.com/a-/AOh14GhWmjsv_u4WFEY1xvqeBNfc0A3tMSzJcXJelHu_=s64",
      "userId": "02529428613547889998"
     },
     "user_tz": -180
    },
    "id": "tqQOHGSMPkQV"
   },
   "outputs": [],
   "source": [
    "# Import necessary libraries\n",
    "import cv2\n",
    "import numpy as np\n",
    "from tensorflow.keras.utils import to_categorical\n",
    "from sklearn.preprocessing import LabelBinarizer\n",
    "from sklearn.model_selection import train_test_split\n",
    "\n",
    "img_rows, img_cols = 112, 112\n",
    "\n",
    "images = []\n",
    "labels = []\n",
    "\n",
    "for category in Data_Dir:\n",
    "  folder_path = os.path.join(face_mask, category)\n",
    "  for img in os.listdir(folder_path):\n",
    "    img_path = os.path.join(folder_path, img)\n",
    "    img = cv2.imread(img_path)\n",
    "\n",
    "    try:\n",
    "      #Converting the image into gray scale\n",
    "      grayscale_img = cv2.cvtColor(img, cv2.COLOR_BGR2GRAY)\n",
    "\n",
    "      #resizing the gray scaled image into size 56*56 in order to keep size of the images consistent\n",
    "      resized_img = cv2.resize(grayscale_img,(img_rows, img_cols))\n",
    "      images.append(resized_img)\n",
    "      labels.append(category)\n",
    "    # Exception Handling in case any error occurs\n",
    "    except Exception as e:\n",
    "      print('Exception:', e)\n",
    "images = np.array(images)/255.0\n",
    "images = np.reshape(images, (images.shape[0], img_rows, img_cols, 1)) \n",
    "\n",
    "# Perform one hot encoding on the labels since the label are textual form\n",
    "lb = LabelBinarizer()\n",
    "labels = lb.fit_transform(labels)\n",
    "labels = to_categorical(labels)\n",
    "labels = np.array(labels)\n",
    "\n",
    "(train_X, test_X, train_y, test_y) = train_test_split(images, labels, test_size = 0.25, random_state = 0)"
   ]
  },
  {
   "cell_type": "code",
   "execution_count": 5,
   "metadata": {
    "colab": {
     "base_uri": "https://localhost:8080/"
    },
    "executionInfo": {
     "elapsed": 6475,
     "status": "ok",
     "timestamp": 1617718134868,
     "user": {
      "displayName": "SAGWE GEOFFREY OMBUI",
      "photoUrl": "https://lh3.googleusercontent.com/a-/AOh14GhWmjsv_u4WFEY1xvqeBNfc0A3tMSzJcXJelHu_=s64",
      "userId": "02529428613547889998"
     },
     "user_tz": -180
    },
    "id": "dYXmOobIcbxl",
    "outputId": "8805a0ea-baf3-40a2-d286-92c9b53eceb7"
   },
   "outputs": [
    {
     "name": "stdout",
     "output_type": "stream",
     "text": [
      "Model: \"sequential\"\n",
      "_________________________________________________________________\n",
      "Layer (type)                 Output Shape              Param #   \n",
      "=================================================================\n",
      "conv2d (Conv2D)              (None, 110, 110, 64)      640       \n",
      "_________________________________________________________________\n",
      "activation (Activation)      (None, 110, 110, 64)      0         \n",
      "_________________________________________________________________\n",
      "max_pooling2d (MaxPooling2D) (None, 55, 55, 64)        0         \n",
      "_________________________________________________________________\n",
      "conv2d_1 (Conv2D)            (None, 53, 53, 128)       73856     \n",
      "_________________________________________________________________\n",
      "activation_1 (Activation)    (None, 53, 53, 128)       0         \n",
      "_________________________________________________________________\n",
      "max_pooling2d_1 (MaxPooling2 (None, 26, 26, 128)       0         \n",
      "_________________________________________________________________\n",
      "flatten (Flatten)            (None, 86528)             0         \n",
      "_________________________________________________________________\n",
      "dropout (Dropout)            (None, 86528)             0         \n",
      "_________________________________________________________________\n",
      "dense (Dense)                (None, 64)                5537856   \n",
      "_________________________________________________________________\n",
      "dense_1 (Dense)              (None, 2)                 130       \n",
      "=================================================================\n",
      "Total params: 5,612,482\n",
      "Trainable params: 5,612,482\n",
      "Non-trainable params: 0\n",
      "_________________________________________________________________\n",
      "None\n"
     ]
    }
   ],
   "source": [
    "#Build Convolutional Neural Network(CNN) Classfication Model\n",
    "\n",
    "# Import Necessary Keras Libraries\n",
    "from keras.models import Sequential \n",
    "from keras.layers import Dense, Activation, Flatten, Dropout\n",
    "from keras.layers import Conv2D, MaxPooling2D\n",
    "\n",
    "# Define model parameters\n",
    "num_classes = 2\n",
    "batch_size = 32\n",
    "\n",
    "# Build CNN model using Sequential API\n",
    "model = Sequential()\n",
    "\n",
    "# First layer group containing Convolution, Relu and MaxPooling layers\n",
    "model.add(Conv2D(64, (3,3), input_shape = (img_rows, img_cols, 1)))\n",
    "model.add(Activation('relu'))\n",
    "model.add(MaxPooling2D(pool_size = (2,2)))\n",
    "\n",
    "# Second layer group containing Convolution, Relu and MaxPooling layers\n",
    "model.add(Conv2D(128, (3,3)))\n",
    "model.add(Activation('relu'))\n",
    "model.add(MaxPooling2D(pool_size=(2,2)))\n",
    "\n",
    "# Flatten and DRopout Layer to Stack output Convolutions above as well as cater overfitting\n",
    "model.add(Flatten())\n",
    "model.add(Dropout(0.5))\n",
    "\n",
    "# Softmax Classifier\n",
    "model.add(Dense(64, activation = 'relu'))\n",
    "model.add(Dense(num_classes, activation = 'softmax'))\n",
    "\n",
    "print(model.summary())"
   ]
  },
  {
   "cell_type": "code",
   "execution_count": 6,
   "metadata": {
    "colab": {
     "base_uri": "https://localhost:8080/"
    },
    "executionInfo": {
     "elapsed": 42136,
     "status": "ok",
     "timestamp": 1617718195517,
     "user": {
      "displayName": "SAGWE GEOFFREY OMBUI",
      "photoUrl": "https://lh3.googleusercontent.com/a-/AOh14GhWmjsv_u4WFEY1xvqeBNfc0A3tMSzJcXJelHu_=s64",
      "userId": "02529428613547889998"
     },
     "user_tz": -180
    },
    "id": "Iojc8BCnqLIh",
    "outputId": "931c5a5a-7bb6-4e1f-ff51-82849141864c"
   },
   "outputs": [
    {
     "name": "stdout",
     "output_type": "stream",
     "text": [
      "Epoch 1/60\n",
      "4/4 [==============================] - 33s 232ms/step - loss: 0.9395 - accuracy: 0.5162 - val_loss: 2.7247 - val_accuracy: 0.5135\n",
      "Epoch 2/60\n",
      "4/4 [==============================] - 0s 34ms/step - loss: 2.0035 - accuracy: 0.4874 - val_loss: 0.7375 - val_accuracy: 0.4865\n",
      "Epoch 3/60\n",
      "4/4 [==============================] - 0s 34ms/step - loss: 0.7164 - accuracy: 0.5072 - val_loss: 0.6832 - val_accuracy: 0.5405\n",
      "Epoch 4/60\n",
      "4/4 [==============================] - 0s 33ms/step - loss: 0.6459 - accuracy: 0.7076 - val_loss: 0.6497 - val_accuracy: 0.5135\n",
      "Epoch 5/60\n",
      "4/4 [==============================] - 0s 34ms/step - loss: 0.5407 - accuracy: 0.7773 - val_loss: 0.6056 - val_accuracy: 0.6486\n",
      "Epoch 6/60\n",
      "4/4 [==============================] - 0s 34ms/step - loss: 0.4360 - accuracy: 0.8350 - val_loss: 0.5085 - val_accuracy: 0.7838\n",
      "Epoch 7/60\n",
      "4/4 [==============================] - 0s 33ms/step - loss: 0.3626 - accuracy: 0.8784 - val_loss: 0.5825 - val_accuracy: 0.6757\n",
      "Epoch 8/60\n",
      "4/4 [==============================] - 0s 33ms/step - loss: 0.3053 - accuracy: 0.8828 - val_loss: 0.7392 - val_accuracy: 0.6216\n",
      "Epoch 9/60\n",
      "4/4 [==============================] - 0s 33ms/step - loss: 0.2169 - accuracy: 0.9183 - val_loss: 0.5026 - val_accuracy: 0.6757\n",
      "Epoch 10/60\n",
      "4/4 [==============================] - 0s 34ms/step - loss: 0.1564 - accuracy: 0.9519 - val_loss: 0.4648 - val_accuracy: 0.8108\n",
      "Epoch 11/60\n",
      "4/4 [==============================] - 0s 36ms/step - loss: 0.0729 - accuracy: 1.0000 - val_loss: 0.3944 - val_accuracy: 0.8108\n",
      "Epoch 12/60\n",
      "4/4 [==============================] - 0s 33ms/step - loss: 0.0570 - accuracy: 0.9911 - val_loss: 0.3562 - val_accuracy: 0.8649\n",
      "Epoch 13/60\n",
      "4/4 [==============================] - 0s 33ms/step - loss: 0.0213 - accuracy: 1.0000 - val_loss: 0.3323 - val_accuracy: 0.8378\n",
      "Epoch 14/60\n",
      "4/4 [==============================] - 0s 35ms/step - loss: 0.0135 - accuracy: 1.0000 - val_loss: 0.4714 - val_accuracy: 0.8108\n",
      "Epoch 15/60\n",
      "4/4 [==============================] - 0s 33ms/step - loss: 0.0450 - accuracy: 0.9822 - val_loss: 0.4670 - val_accuracy: 0.8108\n",
      "Epoch 16/60\n",
      "4/4 [==============================] - 0s 34ms/step - loss: 0.0255 - accuracy: 1.0000 - val_loss: 0.3791 - val_accuracy: 0.8649\n",
      "Epoch 17/60\n",
      "4/4 [==============================] - 0s 35ms/step - loss: 0.0216 - accuracy: 0.9942 - val_loss: 0.4112 - val_accuracy: 0.8649\n",
      "Epoch 18/60\n",
      "4/4 [==============================] - 0s 33ms/step - loss: 0.0157 - accuracy: 1.0000 - val_loss: 0.4148 - val_accuracy: 0.7838\n",
      "Epoch 19/60\n",
      "4/4 [==============================] - 0s 33ms/step - loss: 0.0084 - accuracy: 1.0000 - val_loss: 0.3941 - val_accuracy: 0.8649\n",
      "Epoch 20/60\n",
      "4/4 [==============================] - 0s 34ms/step - loss: 0.0080 - accuracy: 1.0000 - val_loss: 0.3499 - val_accuracy: 0.8378\n",
      "Epoch 21/60\n",
      "4/4 [==============================] - 0s 34ms/step - loss: 0.0024 - accuracy: 1.0000 - val_loss: 0.3300 - val_accuracy: 0.8108\n",
      "Epoch 22/60\n",
      "4/4 [==============================] - 0s 36ms/step - loss: 0.0037 - accuracy: 1.0000 - val_loss: 0.3059 - val_accuracy: 0.8378\n",
      "Epoch 23/60\n",
      "4/4 [==============================] - 0s 33ms/step - loss: 0.0022 - accuracy: 1.0000 - val_loss: 0.2782 - val_accuracy: 0.8649\n",
      "Epoch 24/60\n",
      "4/4 [==============================] - 0s 34ms/step - loss: 0.0017 - accuracy: 1.0000 - val_loss: 0.2605 - val_accuracy: 0.8649\n",
      "Epoch 25/60\n",
      "4/4 [==============================] - 0s 35ms/step - loss: 7.9135e-04 - accuracy: 1.0000 - val_loss: 0.2552 - val_accuracy: 0.8649\n",
      "Epoch 26/60\n",
      "4/4 [==============================] - 0s 35ms/step - loss: 6.6300e-04 - accuracy: 1.0000 - val_loss: 0.2540 - val_accuracy: 0.8649\n",
      "Epoch 27/60\n",
      "4/4 [==============================] - 0s 35ms/step - loss: 0.0014 - accuracy: 1.0000 - val_loss: 0.2499 - val_accuracy: 0.8919\n",
      "Epoch 28/60\n",
      "4/4 [==============================] - 0s 34ms/step - loss: 4.6120e-04 - accuracy: 1.0000 - val_loss: 0.2470 - val_accuracy: 0.8919\n",
      "Epoch 29/60\n",
      "4/4 [==============================] - 0s 34ms/step - loss: 5.5435e-04 - accuracy: 1.0000 - val_loss: 0.2436 - val_accuracy: 0.8919\n",
      "Epoch 30/60\n",
      "4/4 [==============================] - 0s 36ms/step - loss: 3.9958e-04 - accuracy: 1.0000 - val_loss: 0.2443 - val_accuracy: 0.8649\n",
      "Epoch 31/60\n",
      "4/4 [==============================] - 0s 34ms/step - loss: 5.1190e-04 - accuracy: 1.0000 - val_loss: 0.2389 - val_accuracy: 0.8649\n",
      "Epoch 32/60\n",
      "4/4 [==============================] - 0s 35ms/step - loss: 4.1721e-04 - accuracy: 1.0000 - val_loss: 0.2337 - val_accuracy: 0.8919\n",
      "Epoch 33/60\n",
      "4/4 [==============================] - 0s 33ms/step - loss: 4.6319e-04 - accuracy: 1.0000 - val_loss: 0.2301 - val_accuracy: 0.8919\n",
      "Epoch 34/60\n",
      "4/4 [==============================] - 0s 35ms/step - loss: 6.7715e-04 - accuracy: 1.0000 - val_loss: 0.2267 - val_accuracy: 0.8649\n",
      "Epoch 35/60\n",
      "4/4 [==============================] - 0s 33ms/step - loss: 4.2504e-04 - accuracy: 1.0000 - val_loss: 0.2277 - val_accuracy: 0.8649\n",
      "Epoch 36/60\n",
      "4/4 [==============================] - 0s 35ms/step - loss: 3.4179e-04 - accuracy: 1.0000 - val_loss: 0.2251 - val_accuracy: 0.8649\n",
      "Epoch 37/60\n",
      "4/4 [==============================] - 0s 35ms/step - loss: 5.3908e-04 - accuracy: 1.0000 - val_loss: 0.2165 - val_accuracy: 0.8919\n",
      "Epoch 38/60\n",
      "4/4 [==============================] - 0s 33ms/step - loss: 4.2575e-04 - accuracy: 1.0000 - val_loss: 0.2179 - val_accuracy: 0.8919\n",
      "Epoch 39/60\n",
      "4/4 [==============================] - 0s 34ms/step - loss: 4.1315e-04 - accuracy: 1.0000 - val_loss: 0.2152 - val_accuracy: 0.8919\n",
      "Epoch 40/60\n",
      "4/4 [==============================] - 0s 34ms/step - loss: 2.5035e-04 - accuracy: 1.0000 - val_loss: 0.2128 - val_accuracy: 0.8919\n",
      "Epoch 41/60\n",
      "4/4 [==============================] - 0s 36ms/step - loss: 1.9857e-04 - accuracy: 1.0000 - val_loss: 0.2118 - val_accuracy: 0.8649\n",
      "Epoch 42/60\n",
      "4/4 [==============================] - 0s 34ms/step - loss: 3.0805e-04 - accuracy: 1.0000 - val_loss: 0.2142 - val_accuracy: 0.8649\n",
      "Epoch 43/60\n",
      "4/4 [==============================] - 0s 34ms/step - loss: 3.0124e-04 - accuracy: 1.0000 - val_loss: 0.2164 - val_accuracy: 0.8649\n",
      "Epoch 44/60\n",
      "4/4 [==============================] - 0s 34ms/step - loss: 1.9655e-04 - accuracy: 1.0000 - val_loss: 0.2138 - val_accuracy: 0.8919\n",
      "Epoch 45/60\n",
      "4/4 [==============================] - 0s 34ms/step - loss: 1.5610e-04 - accuracy: 1.0000 - val_loss: 0.2463 - val_accuracy: 0.9459\n",
      "Epoch 46/60\n",
      "4/4 [==============================] - 0s 35ms/step - loss: 5.1916e-04 - accuracy: 1.0000 - val_loss: 0.2425 - val_accuracy: 0.9459\n",
      "Epoch 47/60\n",
      "4/4 [==============================] - 0s 35ms/step - loss: 2.7598e-04 - accuracy: 1.0000 - val_loss: 0.2277 - val_accuracy: 0.9189\n",
      "Epoch 48/60\n",
      "4/4 [==============================] - 0s 34ms/step - loss: 1.1745e-04 - accuracy: 1.0000 - val_loss: 0.2240 - val_accuracy: 0.8919\n",
      "Epoch 49/60\n",
      "4/4 [==============================] - 0s 34ms/step - loss: 3.6957e-04 - accuracy: 1.0000 - val_loss: 0.2237 - val_accuracy: 0.8649\n",
      "Epoch 50/60\n",
      "4/4 [==============================] - 0s 33ms/step - loss: 4.6880e-04 - accuracy: 1.0000 - val_loss: 0.2203 - val_accuracy: 0.8919\n",
      "Epoch 51/60\n",
      "4/4 [==============================] - 0s 34ms/step - loss: 2.1024e-04 - accuracy: 1.0000 - val_loss: 0.2174 - val_accuracy: 0.8919\n",
      "Epoch 52/60\n",
      "4/4 [==============================] - 0s 35ms/step - loss: 1.7190e-04 - accuracy: 1.0000 - val_loss: 0.2155 - val_accuracy: 0.8919\n",
      "Epoch 53/60\n",
      "4/4 [==============================] - 0s 33ms/step - loss: 1.9244e-04 - accuracy: 1.0000 - val_loss: 0.2124 - val_accuracy: 0.8919\n",
      "Epoch 54/60\n",
      "4/4 [==============================] - 0s 34ms/step - loss: 1.5030e-04 - accuracy: 1.0000 - val_loss: 0.2100 - val_accuracy: 0.9189\n",
      "Epoch 55/60\n",
      "4/4 [==============================] - 0s 35ms/step - loss: 1.4684e-04 - accuracy: 1.0000 - val_loss: 0.2106 - val_accuracy: 0.9189\n",
      "Epoch 56/60\n",
      "4/4 [==============================] - 0s 34ms/step - loss: 1.2570e-04 - accuracy: 1.0000 - val_loss: 0.2107 - val_accuracy: 0.9459\n",
      "Epoch 57/60\n",
      "4/4 [==============================] - 0s 35ms/step - loss: 1.5524e-04 - accuracy: 1.0000 - val_loss: 0.2099 - val_accuracy: 0.9459\n",
      "Epoch 58/60\n",
      "4/4 [==============================] - 0s 34ms/step - loss: 9.3520e-05 - accuracy: 1.0000 - val_loss: 0.2089 - val_accuracy: 0.9459\n",
      "Epoch 59/60\n",
      "4/4 [==============================] - 0s 34ms/step - loss: 2.2616e-04 - accuracy: 1.0000 - val_loss: 0.1984 - val_accuracy: 0.9189\n",
      "Epoch 60/60\n",
      "4/4 [==============================] - 0s 34ms/step - loss: 1.8647e-04 - accuracy: 1.0000 - val_loss: 0.1936 - val_accuracy: 0.8919\n"
     ]
    }
   ],
   "source": [
    "# Train the Model\n",
    "\n",
    "from keras.optimizers import Adam\n",
    "\n",
    "epochs = 60\n",
    "\n",
    "model.compile(loss = 'categorical_crossentropy', optimizer = Adam(lr = 0.001), metrics = ['accuracy'])\n",
    "fitted_model = model.fit(train_X, train_y, epochs = epochs, validation_split = 0.25)"
   ]
  },
  {
   "cell_type": "code",
   "execution_count": 8,
   "metadata": {
    "colab": {
     "base_uri": "https://localhost:8080/",
     "height": 1000
    },
    "executionInfo": {
     "elapsed": 1919,
     "status": "ok",
     "timestamp": 1617718236169,
     "user": {
      "displayName": "SAGWE GEOFFREY OMBUI",
      "photoUrl": "https://lh3.googleusercontent.com/a-/AOh14GhWmjsv_u4WFEY1xvqeBNfc0A3tMSzJcXJelHu_=s64",
      "userId": "02529428613547889998"
     },
     "user_tz": -180
    },
    "id": "H7a2slOoMkZZ",
    "outputId": "a4c9e946-7be0-47cf-92c1-f73351755327"
   },
   "outputs": [
    {
     "data": {
      "image/png": "[encoded data removed]",
      "text/plain": [
       "<IPython.core.display.Image object>"
      ]
     },
     "execution_count": 8,
     "metadata": {
      "tags": []
     },
     "output_type": "execute_result"
    }
   ],
   "source": [
    "# Plot the Model Architecture\n",
    "from keras.utils.vis_utils import plot_model\n",
    "plot_model(model, to_file = 'face_mask_detection_architecture.png')"
   ]
  },
  {
   "cell_type": "code",
   "execution_count": 9,
   "metadata": {
    "colab": {
     "base_uri": "https://localhost:8080/",
     "height": 541
    },
    "executionInfo": {
     "elapsed": 1250,
     "status": "ok",
     "timestamp": 1617718273977,
     "user": {
      "displayName": "SAGWE GEOFFREY OMBUI",
      "photoUrl": "https://lh3.googleusercontent.com/a-/AOh14GhWmjsv_u4WFEY1xvqeBNfc0A3tMSzJcXJelHu_=s64",
      "userId": "02529428613547889998"
     },
     "user_tz": -180
    },
    "id": "w9beIY9DsxHi",
    "outputId": "24a72e8e-a60b-4e6a-ac17-97aeb1b53d06"
   },
   "outputs": [
    {
     "data": {
      "image/png": "[encoded data removed]",
      "text/plain": [
       "<Figure size 432x288 with 1 Axes>"
      ]
     },
     "metadata": {
      "needs_background": "light",
      "tags": []
     },
     "output_type": "display_data"
    },
    {
     "data": {
      "image/png": "[encoded data removed]",
      "text/plain": [
       "<Figure size 432x288 with 1 Axes>"
      ]
     },
     "metadata": {
      "needs_background": "light",
      "tags": []
     },
     "output_type": "display_data"
    }
   ],
   "source": [
    "# Plotting the Training Loss and Accuracy\n",
    "\n",
    "from matplotlib import pyplot as plt\n",
    "# Plot Training and Validation Loss\n",
    "plt.plot(fitted_model.history['loss'], 'r', label = 'training loss')\n",
    "plt.plot(fitted_model.history['val_loss'], label = 'validation loss')\n",
    "plt.xlabel('Number of Epochs')\n",
    "plt.ylabel('Loss Value')\n",
    "plt.legend()\n",
    "plt.show()\n",
    "\n",
    "# Plot Training and Validation Accuracy\n",
    "plt.plot(fitted_model.history['accuracy'], 'r', label = 'training accuracy')\n",
    "plt.plot(fitted_model.history['val_accuracy'], label = 'validation accuracy')\n",
    "plt.xlabel('Number of Epochs')\n",
    "plt.ylabel('Accuracy Value')\n",
    "plt.legend()\n",
    "plt.show()"
   ]
  },
  {
   "cell_type": "code",
   "execution_count": 10,
   "metadata": {
    "executionInfo": {
     "elapsed": 2605,
     "status": "ok",
     "timestamp": 1617718283938,
     "user": {
      "displayName": "SAGWE GEOFFREY OMBUI",
      "photoUrl": "https://lh3.googleusercontent.com/a-/AOh14GhWmjsv_u4WFEY1xvqeBNfc0A3tMSzJcXJelHu_=s64",
      "userId": "02529428613547889998"
     },
     "user_tz": -180
    },
    "id": "4BVd6wulwm_Y"
   },
   "outputs": [],
   "source": [
    "# Save or Serialize the Model\n",
    "\n",
    "# Save or Serialize the model with the name Face_Mask_Detection_System\n",
    "model.save('face_mask_detection_system.h5')"
   ]
  },
  {
   "cell_type": "code",
   "execution_count": 11,
   "metadata": {
    "colab": {
     "base_uri": "https://localhost:8080/",
     "height": 385
    },
    "executionInfo": {
     "elapsed": 1263,
     "status": "error",
     "timestamp": 1617718317969,
     "user": {
      "displayName": "SAGWE GEOFFREY OMBUI",
      "photoUrl": "https://lh3.googleusercontent.com/a-/AOh14GhWmjsv_u4WFEY1xvqeBNfc0A3tMSzJcXJelHu_=s64",
      "userId": "02529428613547889998"
     },
     "user_tz": -180
    },
    "id": "QxuESK-CzeeF",
    "outputId": "7241b211-6d58-49bd-de31-578602754379"
   },
   "outputs": [
    {
     "name": "stdout",
     "output_type": "stream",
     "text": [
      "no display found. Using non-interactive Agg backend\n"
     ]
    },
    {
     "ename": "TclError",
     "evalue": "ignored",
     "output_type": "error",
     "traceback": [
      "\u001b[0;31m---------------------------------------------------------------------------\u001b[0m",
      "\u001b[0;31mTclError\u001b[0m                                  Traceback (most recent call last)",
      "\u001b[0;32m<ipython-input-11-4877d522ccbd>\u001b[0m in \u001b[0;36m<module>\u001b[0;34m()\u001b[0m\n\u001b[1;32m     24\u001b[0m \u001b[0;34m\u001b[0m\u001b[0m\n\u001b[1;32m     25\u001b[0m \u001b[0;31m# Initialize Tkinter\u001b[0m\u001b[0;34m\u001b[0m\u001b[0;34m\u001b[0m\u001b[0;34m\u001b[0m\u001b[0m\n\u001b[0;32m---> 26\u001b[0;31m \u001b[0mroot\u001b[0m \u001b[0;34m=\u001b[0m \u001b[0mtkinter\u001b[0m\u001b[0;34m.\u001b[0m\u001b[0mTk\u001b[0m\u001b[0;34m(\u001b[0m\u001b[0;34m)\u001b[0m\u001b[0;34m\u001b[0m\u001b[0;34m\u001b[0m\u001b[0m\n\u001b[0m\u001b[1;32m     27\u001b[0m \u001b[0mroot\u001b[0m\u001b[0;34m.\u001b[0m\u001b[0mwithdraw\u001b[0m\u001b[0;34m(\u001b[0m\u001b[0;34m)\u001b[0m\u001b[0;34m\u001b[0m\u001b[0;34m\u001b[0m\u001b[0m\n\u001b[1;32m     28\u001b[0m \u001b[0;34m\u001b[0m\u001b[0m\n",
      "\u001b[0;32m/usr/lib/python3.7/tkinter/__init__.py\u001b[0m in \u001b[0;36m__init__\u001b[0;34m(self, screenName, baseName, className, useTk, sync, use)\u001b[0m\n\u001b[1;32m   2021\u001b[0m                 \u001b[0mbaseName\u001b[0m \u001b[0;34m=\u001b[0m \u001b[0mbaseName\u001b[0m \u001b[0;34m+\u001b[0m \u001b[0mext\u001b[0m\u001b[0;34m\u001b[0m\u001b[0;34m\u001b[0m\u001b[0m\n\u001b[1;32m   2022\u001b[0m         \u001b[0minteractive\u001b[0m \u001b[0;34m=\u001b[0m \u001b[0;36m0\u001b[0m\u001b[0;34m\u001b[0m\u001b[0;34m\u001b[0m\u001b[0m\n\u001b[0;32m-> 2023\u001b[0;31m         \u001b[0mself\u001b[0m\u001b[0;34m.\u001b[0m\u001b[0mtk\u001b[0m \u001b[0;34m=\u001b[0m \u001b[0m_tkinter\u001b[0m\u001b[0;34m.\u001b[0m\u001b[0mcreate\u001b[0m\u001b[0;34m(\u001b[0m\u001b[0mscreenName\u001b[0m\u001b[0;34m,\u001b[0m \u001b[0mbaseName\u001b[0m\u001b[0;34m,\u001b[0m \u001b[0mclassName\u001b[0m\u001b[0;34m,\u001b[0m \u001b[0minteractive\u001b[0m\u001b[0;34m,\u001b[0m \u001b[0mwantobjects\u001b[0m\u001b[0;34m,\u001b[0m \u001b[0museTk\u001b[0m\u001b[0;34m,\u001b[0m \u001b[0msync\u001b[0m\u001b[0;34m,\u001b[0m \u001b[0muse\u001b[0m\u001b[0;34m)\u001b[0m\u001b[0;34m\u001b[0m\u001b[0;34m\u001b[0m\u001b[0m\n\u001b[0m\u001b[1;32m   2024\u001b[0m         \u001b[0;32mif\u001b[0m \u001b[0museTk\u001b[0m\u001b[0;34m:\u001b[0m\u001b[0;34m\u001b[0m\u001b[0;34m\u001b[0m\u001b[0m\n\u001b[1;32m   2025\u001b[0m             \u001b[0mself\u001b[0m\u001b[0;34m.\u001b[0m\u001b[0m_loadtk\u001b[0m\u001b[0;34m(\u001b[0m\u001b[0;34m)\u001b[0m\u001b[0;34m\u001b[0m\u001b[0;34m\u001b[0m\u001b[0m\n",
      "\u001b[0;31mTclError\u001b[0m: no display name and no $DISPLAY environment variable"
     ]
    }
   ],
   "source": [
    "# Import necessary libraries\n",
    "\n",
    "from tensorflow.keras.applications.mobilenet_v2 import preprocess_input\n",
    "from tensorflow.keras.preprocessing.image import img_to_array\n",
    "from tensorflow.keras.models import load_model\n",
    "from keras.models import load_model\n",
    "from imutils.video import VideoStream\n",
    "import numpy as np\n",
    "import imutils\n",
    "import tkinter\n",
    "from tkinter import messagebox\n",
    "import smtplib\n",
    "import time # Provides time-related functions\n",
    "import cv2 # OpenCV library\n",
    "import os\n",
    "import matplotlib\n",
    "matplotlib.use('Agg')\n",
    "\n",
    "import matplotlib as mpl\n",
    "if os.environ.get('DISPLAY','') == '':\n",
    "    print('no display found. Using non-interactive Agg backend')\n",
    "    mpl.use('Agg')\n",
    "import matplotlib.pyplot as plt\n",
    "\n",
    "# Initialize Tkinter\n",
    "root = tkinter.Tk()\n",
    "root.withdraw()\n",
    "\n",
    "# Load trained deep learning model\n",
    "model = load_model('face_mask_detection_system.h5')\n",
    "\n",
    "# Classifier to detect face\n",
    "face_det_classifier = cv2.CascadeClassifier('haarcascade_frontalface_default.xml')\n",
    "\n",
    "# Dictionaries containing details of wearing Mask and color of rectangle around face\n",
    "# Green and if not wearing mask then color of rectangle around face would be red.\n",
    "\n",
    "text_dict = {0:'Mask ON',1:'No Mask'}\n",
    "rect_color_dict = {0:(0,255,0),1:(0,0,255)}\n",
    "\n",
    "SUBJECT = \"Subject\"\n",
    "TEXT = \"One Visitor violated Face Mask Policy. See in the camera to recognize user A person has been detected without a face mask in the Hotel Lobby area. Please Alert the authorities.Photo Captured:\"\n",
    "\n",
    "# While Loop to continuosly detect camera feed\n",
    "\n",
    "print(\"[INFO] starting video stream....\")\n",
    "vs = VideoStream(src=0).start() \n",
    "\n",
    "while(True):\n",
    "\n",
    "  ret, img = vid_source.read()\n",
    "  grayscale_img = cv2.cvtColor(img, cv2.COLOR_BGR2GRAY)\n",
    "  faces = face_det_classifier.detectMultiScale(grayscale_img, 1.3,5)\n",
    "\n",
    "  for (x,y,w,h) in faces:\n",
    "\n",
    "    face_img = grayscale_img[y:y+w,x:x+w]\n",
    "    resized_img = cv2.resize(face_img,(112,112))\n",
    "    normalized_img = resized_img/255.0\n",
    "    reshaped_img = np.reshape(normalized_img,(1,112,112,1))\n",
    "    result = model.predict(reshaped_img)\n",
    "\n",
    "    label = np.argmax(result, axis = 1)[0]\n",
    "\n",
    "    cv2.rectangle(img,(x,y),(x+w,y+h),rect_color_dict[label],2)\n",
    "    cv2.rectangle(img,(x,y-40),(x+w,y),rect_color_dict[label],-1)\n",
    "    cv2.putText(img,text_dict[label],(x,y-10),cv2.FONT_HERSHEY_SIMPLEX,0.8,(0,0,0),2)\n",
    "\n",
    "    # If label = 1 then it means wearing No Mask and 0 means wearing Mask\n",
    "    if (label == 1):\n",
    "       # Throw a Warning Message to tell user to wear mask if not wearing one.\n",
    "       # Open and No Access will be given He/She wears the mask\n",
    "       messagebox.showwarning(\"Warning\",\"Access Denied. Please wear a Face Mask\")\n",
    "\n",
    "       # Send an Email to the Administrator if access denied/user not wearing face mask\n",
    "       message = 'Subject:{}\\n\\n{}'.format(SUBJECT,TEXT)\n",
    "       mail = smtplib.SMTP('smtp.gmail.com',587)\n",
    "       mail.ehlo()\n",
    "       mail.starttls()\n",
    "       mail.login('sagweombui@students.uonbi.ac.ke')\n",
    "       mail.sendmail('sagweombui@students.uonbi.ac.ke','sagweombui@students.uonbi.ac.ke',message)\n",
    "       mail.close\n",
    "    else:\n",
    "      pass\n",
    "      break\n",
    "\n",
    "    # Display the frame using OpenCV\n",
    "    cv2.imshow(\"Frame\", frame)\n",
    "\n",
    "    # Clear the stream in preparation for the next frame\n",
    "    raw_capture.truncate(0)     \n",
    "    key = cv2.waitKey(1)\n",
    "\n",
    "    if(key==27):\n",
    "      break\n",
    "cv2.destroyAllWindows()\n",
    "source.release()      \n",
    "\n",
    "\n"
   ]
  }
 ],
 "metadata": {
  "accelerator": "GPU",
  "colab": {
   "authorship_tag": "ABX9TyOqZcKeYXZuJU4zV0bVq5Qe",
   "collapsed_sections": [],
   "name": "Face_Mask_Detection.ipynb",
   "provenance": [],
   "toc_visible": true
  },
  "kernelspec": {
   "display_name": "Python 3",
   "language": "python",
   "name": "python3"
  },
  "language_info": {
   "codemirror_mode": {
    "name": "ipython",
    "version": 3
   },
   "file_extension": ".py",
   "mimetype": "text/x-python",
   "name": "python",
   "nbconvert_exporter": "python",
   "pygments_lexer": "ipython3",
   "version": "3.7.6"
  }
 },
 "nbformat": 4,
 "nbformat_minor": 1
}
