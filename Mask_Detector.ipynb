{
 "cells": [
  {
   "cell_type": "code",
   "execution_count": 1,
   "metadata": {},
   "outputs": [],
   "source": [
    "# Import necessary libraries\n",
    "from keras.models import load_model\n",
    "from picamera import PiCamera\n",
    "import cv2\n",
    "import os\n",
    "import tkinter\n",
    "from tkinter import messagebox\n",
    "import smtplib\n",
    "import time # Provides time-related functions\n",
    "import cv2 # OpenCV library\n",
    "import numpy as np\n",
    "\n",
    "from imutils import paths"
   ]
  },
  {
   "cell_type": "code",
   "execution_count": 2,
   "metadata": {},
   "outputs": [
    {
     "data": {
      "text/plain": [
       "''"
      ]
     },
     "execution_count": 2,
     "metadata": {},
     "output_type": "execute_result"
    }
   ],
   "source": [
    "# Initialize Tkinter\n",
    "root = tkinter.Tk()\n",
    "root.withdraw()"
   ]
  },
  {
   "cell_type": "code",
   "execution_count": 10,
   "metadata": {},
   "outputs": [
    {
     "ename": "NameError",
     "evalue": "name 'PiCamera' is not defined",
     "output_type": "error",
     "traceback": [
      "\u001b[1;31m---------------------------------------------------------------------------\u001b[0m",
      "\u001b[1;31mNameError\u001b[0m                                 Traceback (most recent call last)",
      "\u001b[1;32m<ipython-input-10-88b343c03920>\u001b[0m in \u001b[0;36m<module>\u001b[1;34m\u001b[0m\n\u001b[0;32m      1\u001b[0m \u001b[1;31m# Create Object for Camera\u001b[0m\u001b[1;33m\u001b[0m\u001b[1;33m\u001b[0m\u001b[1;33m\u001b[0m\u001b[0m\n\u001b[1;32m----> 2\u001b[1;33m \u001b[0mcamera\u001b[0m \u001b[1;33m=\u001b[0m \u001b[0mPiCamera\u001b[0m\u001b[1;33m(\u001b[0m\u001b[1;33m)\u001b[0m\u001b[1;33m\u001b[0m\u001b[1;33m\u001b[0m\u001b[0m\n\u001b[0m",
      "\u001b[1;31mNameError\u001b[0m: name 'PiCamera' is not defined"
     ]
    }
   ],
   "source": [
    "# Create Object for Camera\n",
    "camera = PiCamera()"
   ]
  },
  {
   "cell_type": "code",
   "execution_count": 3,
   "metadata": {},
   "outputs": [],
   "source": [
    "# Load trained deep learning model\n",
    "model = load_model('face_mask_detection_system.h5')"
   ]
  },
  {
   "cell_type": "code",
   "execution_count": 4,
   "metadata": {},
   "outputs": [],
   "source": [
    "# Classifier to detect face\n",
    "face_det_classifier = cv2.CascadeClassifier('haarcascade_frontalface_default.xml')"
   ]
  },
  {
   "cell_type": "code",
   "execution_count": 5,
   "metadata": {},
   "outputs": [],
   "source": [
    "# While Loop to continuosly detect camera feed\n",
    "\n",
    "# Capture Video\n",
    "vid_source = cv2.VideoCapture(0)"
   ]
  },
  {
   "cell_type": "code",
   "execution_count": 6,
   "metadata": {},
   "outputs": [],
   "source": [
    "# Dictionaries containing details of wearing Mask and color of rectangle around face\n",
    "# Green and if not wearing mask then color of rectangle around face would be red.\n",
    "\n",
    "text_dict = {0:'Mask ON',1:'No Mask'}\n",
    "rect_color_dict = {0:(0,255,0),1:(0,0,255)}"
   ]
  },
  {
   "cell_type": "code",
   "execution_count": 7,
   "metadata": {},
   "outputs": [],
   "source": [
    "SUBJECT = \"Subject\"\n",
    "TEXT = \"One Visitor violated Face Mask Policy. See in the camera to recognize user A person has been detected without a face mask in the Hotel Lobby area. Please Alert the authorities.Photo Captured:\""
   ]
  },
  {
   "cell_type": "code",
   "execution_count": 11,
   "metadata": {},
   "outputs": [],
   "source": [
    "face_det_classifier = cv2.CascadeClassifier('haarcascade_frontalface_default.xml')\n",
    "capture = cv2.VideoCapture(0)\n",
    "data = []\n",
    "while True:\n",
    "    flag, img = capture.read()\n",
    "    grayscale_img = cv2.cvtColor(img, cv2.COLOR_BGR2GRAY)\n",
    "    if flag:\n",
    "        faces = face_det_classifier.detectMultiScale(img)\n",
    "        for x,y,w,h in faces:\n",
    "            cv2.rectangle(img, (x,y), (x+w, y+h), (255,0,255), 4)\n",
    "            face = img[y:y+h, x:x+w, :]\n",
    "            face = cv2.resize(face, (50,50))\n",
    "            face = face.reshape(1, -1)\n",
    "            face_img = grayscale_img[y:y+w,x:x+w]\n",
    "            resized_img = cv2.resize(face_img,(112,112))\n",
    "            normalized_img = resized_img/255.0\n",
    "            reshaped_img = np.reshape(normalized_img,(1,112,112,1))\n",
    "            result = model.predict(reshaped_img)\n",
    "\n",
    "            label = np.argmax(result, axis = 1)[0]\n",
    "\n",
    "            cv2.rectangle(img,(x,y),(x+w,y+h),rect_color_dict[label],2)\n",
    "            cv2.rectangle(img,(x,y-40),(x+w,y),rect_color_dict[label],-1)\n",
    "            cv2.putText(img,text_dict[label],(x,y-10),cv2.FONT_HERSHEY_SIMPLEX,0.8,(0,0,0),2)\n",
    "\n",
    "        cv2.imshow('LIVE Video Feed', img)\n",
    "        #27 - ASCII of Escape\n",
    "        if cv2.waitKey(2) == 27:\n",
    "            break\n",
    "\n",
    "capture.release()\n",
    "cv2.destroyAllWindows()"
   ]
  },
  {
   "cell_type": "code",
   "execution_count": null,
   "metadata": {},
   "outputs": [],
   "source": [
    "# While Loop to continuously detect camera feed\n",
    "while (True):\n",
    "    ret, img = vid_source.read()\n",
    "    grayscale_img = cv2.cvtColor(img, cv2.COLOR_BGR2GRAY)\n",
    "    faces = face_det_classifier.detectMultiScale(grayscale_img, 1.3,5)\n",
    "    \n",
    "    for (x,y,w,h) in faces:\n",
    "        \n",
    "        face_img = grayscale_img[y:y+w, x:x+w]\n",
    "        resized_img = cv2.resize(face_img,(112,112))\n",
    "        normalized_img = resized_img/255.0\n",
    "        reshaped_img = np.reshape(normalized_img,(1,112,112,1))\n",
    "        result = model.predict(reshaped_img)\n",
    "     \n",
    "        label = np.argmax(result, axis = 1)[0]\n",
    "\n",
    "        cv2.rectangle(img,(x,y),(x+w,y+h),rect_color_dict[label],2)\n",
    "        cv2.rectangle(img,(x,y-40),(x+w,y),rect_color_dict[label],-1)\n",
    "        cv2.putText(img,text_dict[label],(x,y-10),cv2.FONT_HERSHEY_SIMPLEX,0.8,(0,0,0),2)\n",
    "            \n",
    "        # If label = 1 then it means wearing No Mask and 0 means wearing Mask\n",
    "        if (label == 1):\n",
    "            # Throw a Warning Message to tell user to wear mask if not wearing one.\n",
    "            # Open and No Access will be given He/She wears the mask\n",
    "            messagebox.showwarning(\"Warning\",\"Access Denied. Please wear a Face Mask\")\n",
    "\n",
    "            # Send an Email to the Administrator if access denied/user not wearing face mask\n",
    "            message = 'Subject:{}\\n\\n{}'.format(SUBJECT,TEXT)\n",
    "            mail = smtplib.SMTP('smtp.gmail.com',587)\n",
    "            mail.ehlo()\n",
    "            mail.starttls()\n",
    "            mail.login(\"sagweombui25@gmail.com\",\"Ombuigeoffrey23#\")\n",
    "            mail.sendmail(\"sagweombui25@gmail.com\",\"sagweombui25@gmail.com\", message)\n",
    "            mail.close\n",
    "        else:\n",
    "            pass\n",
    "            break\n",
    "\n",
    "        # Clear the stream in preparation for the next frame\n",
    "        cv2.imshow('LIVE Video Feed', img)\n",
    "        #27 - ASCII of Escape\n",
    "        if cv2.waitKey(2) == 27:\n",
    "            break\n",
    "\n",
    "capture.release()\n",
    "cv2.destroyAllWindows()"
   ]
  },
  {
   "cell_type": "code",
   "execution_count": null,
   "metadata": {},
   "outputs": [],
   "source": []
  }
 ],
 "metadata": {
  "kernelspec": {
   "display_name": "Python 3",
   "language": "python",
   "name": "python3"
  },
  "language_info": {
   "codemirror_mode": {
    "name": "ipython",
    "version": 3
   },
   "file_extension": ".py",
   "mimetype": "text/x-python",
   "name": "python",
   "nbconvert_exporter": "python",
   "pygments_lexer": "ipython3",
   "version": "3.7.6"
  }
 },
 "nbformat": 4,
 "nbformat_minor": 4
}
